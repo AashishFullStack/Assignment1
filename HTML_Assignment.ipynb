{
  "nbformat": 4,
  "nbformat_minor": 0,
  "metadata": {
    "colab": {
      "provenance": []
    },
    "kernelspec": {
      "name": "python3",
      "display_name": "Python 3"
    },
    "language_info": {
      "name": "python"
    }
  },
  "cells": [
    {
      "cell_type": "markdown",
      "source": [
        "#Assignment 1\n",
        "\n"
      ],
      "metadata": {
        "id": "UAvqdAwalT56"
      }
    },
    {
      "cell_type": "markdown",
      "source": [
        "1. Explain the main components of client-server architecture and their functions?\n",
        "- Client server architeture is going give us understanding how a client and server are going to communicate.\n",
        "-Collect , process & create a response\n",
        "\n",
        "2. Discuss the various career paths available after completing a web development course?\n",
        "- After completing a web development course we can go for frontend developer , backend developer or Web developer(\"Frontend +Backend developer \" Full stack developer). Apart from this we can go for App developement for backend process\n",
        "\n",
        "3. Describe the role of a web browser's developer tools in web development?\n",
        "- The importance of Web browser's developer tools in web development is to create a website because in order to make website we need those tools to write programming for backend and frontent. Some of the tools are Text Editor , Subline text\n",
        "\n",
        "4. What are the advantages of using a Version Control System like Git in a development project?\n",
        "\n",
        "\n",
        "\n",
        "5. Compare and contrast a text editor and an IDE, highlighting their key features and uses?\n",
        "- Text editor is a lightweight tool used write code and edit some example are Notepad + , subline text\n",
        "\n",
        "- IDE(Integrated Development Environment) are use to write complex coding and it helps manage and build complete project easily and it's full software wiith editor.. example VS Code(Visual Studio Code), PycCharm..."
      ],
      "metadata": {
        "id": "P32moGn4dIri"
      }
    },
    {
      "cell_type": "code",
      "source": [
        "'''' Don't know the 4 Answer '''"
      ],
      "metadata": {
        "id": "2o3LFB5eks7a"
      },
      "execution_count": null,
      "outputs": []
    },
    {
      "cell_type": "code",
      "execution_count": null,
      "metadata": {
        "id": "AyyCYbUJc832"
      },
      "outputs": [],
      "source": []
    }
  ]
}